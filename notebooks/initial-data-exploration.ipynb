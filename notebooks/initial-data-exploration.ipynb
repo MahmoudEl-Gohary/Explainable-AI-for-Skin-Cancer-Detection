{
   "cell_type": "markdown",
   "metadata": {},
   "source": [
    "# HAM10000 Dataset Exploration\n",
    "\n",
    "This notebook explores the HAM10000 skin lesion dataset for classification. The dataset contains 10,015 dermatoscopic images of pigmented skin lesions across 7 diagnostic categories.\n",
    "\n",
    "## Dataset Overview\n",
    "\n",
    "The HAM10000 ('Human Against Machine with 10000 training images') dataset consists of 10015 dermatoscopic images released as a training set for academic machine learning purposes. The dataset includes images of common pigmented skin lesions from different populations, acquired and stored by different modalities.\n",
    "\n",
    "The 7 diagnostic categories in the dataset are:\n",
    "1. Actinic Keratoses (akiec) - 327 images\n",
    "2. Basal Cell Carcinoma (bcc) - 514 images\n",
    "3. Benign Keratosis-like Lesions (bkl) - 1099 images\n",
    "4. Dermatofibroma (df) - 115 images\n",
    "5. Melanoma (mel) - 1113 images\n",
    "6. Melanocytic Nevi (nv) - 6705 images\n",
    "7. Vascular Lesions (vasc) - 142 images"
   ]
  },
  {
   "cell_type": "code",
   "execution_count": null,
   "metadata": {},
   "source": [
    "# Import required libraries\n",
    "import os\n",
    "import numpy as np\n",
    "import pandas as pd\n",
    "import matplotlib.pyplot as plt\n",
    "import seaborn as sns\n",
    "from PIL import Image\n",
    "import cv2\n",
    "from pathlib import Path\n",
    "import sys\n",
    "from collections import Counter\n",
    "from sklearn.decomposition import PCA\n",
    "from sklearn.manifold import TSNE\n",
    "import warnings\n",
    "warnings.filterwarnings('ignore')\n",
    "\n",
    "# Add the project root directory to the Python path\n",
    "sys.path.append('..')\n",
    "\n",
    "# Import project modules\n",
    "from XAI.config import CLASS_NAMES, RAW_DATA_DIR\n",
    "from XAI.features import extract_color_histogram, extract_shape_features, extract_texture_features\n",
    "\n",
    "# Set plotting style\n",
    "plt.style.use('ggplot')\n",
    "sns.set(style=\"whitegrid\")\n",
    "\n",
    "# Matplotlib settings for better visualization\n",
    "%matplotlib inline\n",
    "plt.rcParams['figure.figsize'] = (12, 8)\n",
    "plt.rcParams['font.size'] = 12"
   ]
  },
  {
   "cell_type": "markdown",
   "metadata": {},
   "source": [
    "## Loading the Dataset"
   ]
  },
  {
   "cell_type": "code",
   "execution_count": null,
   "metadata": {},
   "source": [
    "# Define paths\n",
    "DATA_DIR = Path('../data/raw')\n",
    "METADATA_FILE = DATA_DIR / 'HAM10000_metadata.csv'\n",
    "IMAGE_DIR_PART1 = DATA_DIR / 'HAM10000_images_part_1'\n",
    "IMAGE_DIR_PART2 = DATA_DIR / 'HAM10000_images_part_2'\n",
    "\n",
    "# Check if the files exist\n",
    "print(f\"Metadata file exists: {METADATA_FILE.exists()}\")\n",
    "print(f\"Image directory part 1 exists: {IMAGE_DIR_PART1.exists()}\")\n",
    "print(f\"Image directory part 2 exists: {IMAGE_DIR_PART2.exists()}\")"
   ]
  },
  {
   "cell_type": "code",
   "execution_count": null,
   "metadata": {},
   "source": [
    "# Load metadata\n",
    "metadata = pd.read_csv(METADATA_FILE)\n",
    "\n",
    "# Display first few rows\n",
    "metadata.head()"
   ]
  },
  {
   "cell_type": "code",
   "execution_count": null,
   "metadata": {},
   "source": [
    "# Check the shape of the metadata\n",
    "print(f\"Metadata shape: {metadata.shape}\")\n",
    "\n",
    "# Check for missing values\n",
    "print(\"\\nMissing values:\")\n",
    "print(metadata.isnull().sum())"
   ]
  },
  {
   "cell_type": "markdown",
   "metadata": {},
   "source": [
    "## Exploratory Data Analysis"
   ]
  },
  {
   "cell_type": "code",
   "execution_count": null,
   "metadata": {},
   "source": [
    "# Display dataset information\n",
    "metadata.info()"
   ]
  },
  {
   "cell_type": "code",
   "execution_count": null,
   "metadata": {},
   "source": [
    "# Statistical summary of numerical columns\n",
    "metadata.describe()"
   ]
  },
  {
   "cell_type": "markdown",
   "metadata": {},
   "source": [
    "### Class Distribution"
   ]
  },
  {
   "cell_type": "code",
   "execution_count": null,
   "metadata": {},
   "source": [
    "# Count and visualize the distribution of diagnostic categories\n",
    "class_counts = metadata['dx'].value_counts()\n",
    "print(\"Class distribution:\")\n",
    "for class_name, count in class_counts.items():\n",
    "    print(f\"{CLASS_NAMES[class_name]}: {count} images ({count/len(metadata)*100:.2f}%)\")\n",
    "\n",
    "# Plot class distribution\n",
    "plt.figure(figsize=(12, 6))\n",
    "ax = sns.barplot(x=class_counts.index, y=class_counts.values)\n",
    "plt.xlabel('Class')\n",
    "plt.ylabel('Number of Images')\n",
    "plt.title('Class Distribution in HAM10000 Dataset')\n",
    "\n",
    "# Add value labels on top of bars\n",
    "for i, count in enumerate(class_counts.values):\n",
    "    ax.text(i, count + 50, str(count), ha='center')\n",
    "\n",
    "# Replace class codes with full names\n",
    "plt.xticks(range(len(CLASS_NAMES)), [CLASS_NAMES[cls] for cls in class_counts.index], rotation=45, ha='right')\n",
    "plt.tight_layout()\n",
    "plt.show()"
   ]
  },
  {
   "cell_type": "markdown",
   "metadata": {},
   "source": [
    "We can see that the dataset is highly imbalanced, with 'Melanocytic Nevi' (nv) being the dominant class with 6705 images, while 'Dermatofibroma' (df) has only 115 images. This class imbalance will need to be addressed during model training."
   ]
  },
  {
   "cell_type": "markdown",
   "metadata": {},
   "source": [
    "### Age Distribution"
   ]
  },
  {
   "cell_type": "code",
   "execution_count": null,
   "metadata": {},
   "source": [
    "# Age distribution analysis\n",
    "plt.figure(figsize=(12, 6))\n",
    "sns.histplot(metadata['age'].dropna(), bins=20, kde=True)\n",
    "plt.title('Age Distribution in the Dataset')\n",
    "plt.xlabel('Age')\n",
    "plt.ylabel('Count')\n",
    "plt.show()\n",
    "\n",
    "# Age distribution by diagnostic category\n",
    "plt.figure(figsize=(14, 8))\n",
    "sns.boxplot(x='dx', y='age', data=metadata)\n",
    "plt.title('Age Distribution by Diagnostic Category')\n",
    "plt.xlabel('Diagnostic Category')\n",
    "plt.ylabel('Age')\n",
    "plt.xticks(range(len(CLASS_NAMES)), [CLASS_NAMES[cls] for cls in sorted(metadata['dx'].unique())], rotation=45, ha='right')\n",
    "plt.tight_layout()\n",
    "plt.show()"
   ]
  },
  {
   "cell_type": "code",
   "execution_count": null,
   "metadata": {},
   "source": [
    "# Statistical summary of age by class\n",
    "age_by_class = metadata.groupby('dx')['age'].describe()\n",
    "age_by_class"
   ]
  },
  {
   "cell_type": "markdown",
   "metadata": {},
   "source": [
    "The age distribution shows that skin lesions occur predominantly in middle-aged and older adults. Some classes like 'Actinic Keratoses' tend to occur in older populations, which makes sense as these are related to sun damage over time."
   ]
  },
  {
   "cell_type": "markdown",
   "metadata": {},
   "source": [
    "### Sex Distribution"
   ]
  },
  {
   "cell_type": "code",
   "execution_count": null,
   "metadata": {},
   "source": [
    "# Sex distribution\n",
    "sex_counts = metadata['sex'].value_counts()\n",
    "plt.figure(figsize=(8, 6))\n",
    "sex_counts.plot(kind='pie', autopct='%1.1f%%')\n",
    "plt.title('Sex Distribution in the Dataset')\n",
    "plt.ylabel('')\n",
    "plt.show()\n",
    "\n",
    "# Sex distribution by diagnostic category\n",
    "plt.figure(figsize=(14, 6))\n",
    "sex_by_dx = pd.crosstab(metadata['dx'], metadata['sex'])\n",
    "sex_by_dx_norm = sex_by_dx.div(sex_by_dx.sum(axis=1), axis=0)\n",
    "sex_by_dx_norm.plot(kind='bar', stacked=True)\n",
    "plt.title('Sex Distribution by Diagnostic Category')\n",
    "plt.xlabel('Diagnostic Category')\n",
    "plt.ylabel('Proportion')\n",
    "plt.xticks(range(len(CLASS_NAMES)), [CLASS_NAMES[cls] for cls in sex_by_dx.index], rotation=45, ha='right')\n",
    "plt.legend(title='Sex')\n",
    "plt.tight_layout()\n",
    "plt.show()"
   ]
  },
  {
   "cell_type": "code",
   "execution_count": null,
   "metadata": {},
   "source": [
    "# Count of images by sex and diagnostic category\n",
    "sex_dx_counts = pd.crosstab(metadata['dx'], metadata['sex'])\n",
    "sex_dx_counts.columns = ['Female', 'Male', 'Unknown']\n",
    "sex_dx_counts.index = [CLASS_NAMES[cls] for cls in sex_dx_counts.index]\n",
    "sex_dx_counts"
   ]
  },
  {
   "cell_type": "markdown",
   "metadata": {},
   "source": [
    "The dataset has more male patients than female, and there's a significant number of 'unknown' sex entries. Some skin lesion types show sex-based prevalence differences, which could be useful information for the model."
   ]
  },
  {
   "cell_type": "markdown",
   "metadata": {},
   "source": [
    "### Localization Distribution"
   ]
  },
  {
   "cell_type": "code",
   "execution_count": null,
   "metadata": {},
   "source": [
    "# Localization distribution\n",
    "loc_counts = metadata['localization'].value_counts()\n",
    "plt.figure(figsize=(12, 6))\n",
    "loc_counts.plot(kind='bar')\n",
    "plt.title('Localization Distribution in the Dataset')\n",
    "plt.xlabel('Localization')\n",
    "plt.ylabel('Count')\n",
    "plt.xticks(rotation=45, ha='right')\n",
    "plt.tight_layout()\n",
    "plt.show()\n",
    "\n",
    "# Localization distribution by diagnostic category\n",
    "plt.figure(figsize=(14, 8))\n",
    "loc_by_dx = pd.crosstab(metadata['dx'], metadata['localization'])\n",
    "loc_by_dx_norm = loc_by_dx.div(loc_by_dx.sum(axis=1), axis=0)\n",
    "loc_by_dx_norm.plot(kind='bar', stacked=True)\n",
    "plt.title('Localization Distribution by Diagnostic Category')\n",
    "plt.xlabel('Diagnostic Category')\n",
    "plt.ylabel('Proportion')\n",
    "plt.xticks(range(len(CLASS_NAMES)), [CLASS_NAMES[cls] for cls in loc_by_dx.index], rotation=45, ha='right')\n",
    "plt.legend(title='Localization', bbox_to_anchor=(1.05, 1), loc='upper left')\n",
    "plt.tight_layout()\n",
    "plt.show()"
   ]
  },
  {
   "cell_type": "code",
   "execution_count": null,
   "metadata": {},
   "source": [
    "# Top 5 localizations by class\n",
    "for cls in metadata['dx'].unique():\n",
    "    class_df = metadata[metadata['dx'] == cls]\n",
    "    top_locs = class_df['localization'].value_counts().head(5)\n",
    "    print(f\"\\nTop 5 localizations for {CLASS_NAMES[cls]}:\")\n",
    "    for loc, count in top_locs.items():\n",
    "        print(f\"{loc}: {count} ({count/len(class_df)*100:.1f}%)\")"
   ]
  },
  {
   "cell_type": "markdown",
   "metadata": {},
   "source": [
    "The localization distribution shows that skin lesions have different prevalence patterns on the body. For instance, melanoma (mel) is more common on the back and trunk areas, which are more exposed to sun damage. Understanding these patterns can help in developing better diagnostic models."
   ]
  },
  {
   "cell_type": "markdown",
   "metadata": {},
   "source": [
    "### Diagnosis Confirmation Methods"
   ]
  },
  {
   "cell_type": "code",
   "execution_count": null,
   "metadata": {},
   "source": [
    "# Diagnosis confirmation method distribution\n",
    "dx_type_counts = metadata['dx_type'].value_counts()\n",
    "plt.figure(figsize=(10, 6))\n",
    "dx_type_counts.plot(kind='bar')\n",
    "plt.title('Diagnosis Confirmation Methods in the Dataset')\n",
    "plt.xlabel('Confirmation Method')\n",
    "plt.ylabel('Count')\n",
    "plt.tight_layout()\n",
    "plt.show()\n",
    "\n",
    "# Percentage of each confirmation method\n",
    "print(\"Diagnosis confirmation methods:\")\n",
    "for method, count in dx_type_counts.items():\n",
    "    print(f\"{method}: {count} ({count/len(metadata)*100:.2f}%)\")"
   ]
  },
  {
   "cell_type": "code",
   "execution_count": null,
   "metadata": {},
   "source": [
    "# Confirmation method by diagnostic category\n",
    "plt.figure(figsize=(14, 8))\n",
    "dx_type_by_dx = pd.crosstab(metadata['dx'], metadata['dx_type'])\n",
    "dx_type_by_dx_norm = dx_type_by_dx.div(dx_type_by_dx.sum(axis=1), axis=0)\n",
    "dx_type_by_dx_norm.plot(kind='bar', stacked=True)\n",
    "plt.title('Confirmation Method by Diagnostic Category')\n",
    "plt.xlabel('Diagnostic Category')\n",
    "plt.ylabel('Proportion')\n",
    "plt.xticks(range(len(CLASS_NAMES)), [CLASS_NAMES[cls] for cls in dx_type_by_dx.index], rotation=45, ha='right')\n",
    "plt.legend(title='Confirmation Method')\n",
    "plt.tight_layout()\n",
    "plt.show()"
   ]
  },
  {
   "cell_type": "markdown",
   "metadata": {},
   "source": [
    "Most of the diagnoses in the dataset are confirmed by histopathology, which is considered the gold standard. Different lesion types have different confirmation patterns, with melanoma (mel) and basal cell carcinoma (bcc) having high histopathology confirmation rates, likely because they're more critical to diagnose accurately."
   ]
  },
  {
   "cell_type": "markdown",
   "metadata": {},
   "source": [
    "### Image Samples"
   ]
  },
  {
   "cell_type": "code",
   "execution_count": null,
   "metadata": {},
   "source": [
    "# Display sample images from each class\n",
    "samples_per_class = 5\n",
    "fig, axs = plt.subplots(len(CLASS_NAMES), samples_per_class, figsize=(15, 3*len(CLASS_NAMES)))\n",
    "\n",
    "for i, class_name in enumerate(CLASS_NAMES.keys()):\n",
    "    # Get samples for this class\n",
    "    samples = metadata[metadata['dx'] == class_name].sample(min(samples_per_class, sum(metadata['dx'] == class_name)))\n",
    "    \n",
    "    for j, (_, row) in enumerate(samples.iterrows()):\n",
    "        img_id = row['image_id']\n",
    "        \n",
    "        # Find image file\n",
    "        img_path = None\n",
    "        for img_dir in [IMAGE_DIR_PART1, IMAGE_DIR_PART2]:\n",
    "            temp_path = img_dir / f\"{img_id}.jpg\"\n",
    "            if temp_path.exists():\n",
    "                img_path = temp_path\n",
    "                break\n",
    "        \n",
    "        if img_path is None:\n",
    "            print(f\"Warning: Image {img_id} not found\")\n",
    "            continue\n",
    "        \n",
    "        # Load and display image\n",
    "        img = Image.open(img_path)\n",
    "        axs[i, j].imshow(img)\n",
    "        axs[i, j].axis('off')\n",
    "        \n",
    "        # Add class label to first image in row\n",
    "        if j == 0:\n",
    "            axs[i, j].set_title(f\"{CLASS_NAMES[class_name]}\", fontsize=12)\n",
    "\n",
    "plt.tight_layout()\n",
    "plt.show()"
   ]
  },
  {
   "cell_type": "markdown",
   "metadata": {},
   "source": [
    "The sample images show the visual differences between the seven skin lesion classes. Some classes like melanoma (mel) and melanocytic nevi (nv) can look quite similar, which makes the classification task challenging."
   ]
  },
  {
   "cell_type": "markdown",
   "metadata": {},
   "source": [
    "### Image Properties Analysis"
   ]
  },
  {
   "cell_type": "code",
   "execution_count": null,
   "metadata": {},
   "source": [
    "# Get a sample of images from each class for analysis\n",
    "sample_size = 20\n",
    "sample_data = []\n",
    "\n",
    "for class_name in CLASS_NAMES.keys():\n",
    "    class_samples = metadata[metadata['dx'] == class_name].sample(\n",
    "        min(sample_size, sum(metadata['dx'] == class_name)), random_state=42\n",
    "    )\n",
    "    \n",
    "    for _, row in class_samples.iterrows():\n",
    "        img_id = row['image_id']\n",
    "        \n",
    "        # Find image file\n",
    "        img_path = None\n",
    "        for img_dir in [IMAGE_DIR_PART1, IMAGE_DIR_PART2]:\n",
    "            temp_path = img_dir / f\"{img_id}.jpg\"\n",
    "            if temp_path.exists():\n",
    "                img_path = temp_path\n",
    "                break\n",
    "        \n",
    "        if img_path is None:\n",
    "            continue\n",
    "        \n",
    "        # Read image\n",
    "        img = cv2.imread(str(img_path))\n",
    "        img = cv2.cvtColor(img, cv2.COLOR_BGR2RGB)\n",
    "        \n",
    "        # Get image properties\n",
    "        height, width, channels = img.shape\n",
    "        aspect_ratio = width / height\n",
    "        mean_color = np.mean(img, axis=(0, 1))\n",
    "        std_color = np.std(img, axis=(0, 1))\n",
    "        \n",
    "        # Extract color histogram\n",
    "        color_hist = extract_color_histogram(img, bins=8)  # Reduced bins for simplicity\n",
    "        \n",
    "        # Extract shape features\n",
    "        shape_features = extract_shape_features(img)\n",
    "        \n",
    "        # Extract texture features\n",
    "        texture_features = extract_texture_features(img)\n",
    "        \n",
    "        # Combine all features\n",
    "        sample_data.append({\n",
    "            'image_id': img_id,\n",
    "            'class': class_name,\n",
    "            'height': height,\n",
    "            'width': width,\n",
    "            'aspect_ratio': aspect_ratio,\n",
    "            'mean_r': mean_color[0],\n",
    "            'mean_g': mean_color[1],\n",
    "            'mean_b': mean_color[2],\n",
    "            'std_r': std_color[0],\n",
    "            'std_g': std_color[1],\n",
    "            'std_b': std_color[2],\n",
    "            'color_hist': color_hist,\n",
    "            'shape_features': shape_features,\n",
    "            'texture_features': texture_features\n",
    "        })\n",
    "\n",
    "# Convert to DataFrame\n",
    "sample_df = pd.DataFrame(sample_data)"
   ]
  },
  {
   "cell_type": "code",
   "execution_count": null,
   "metadata": {},
   "source": [
    "# Analyze basic image properties\n",
    "plt.figure(figsize=(12, 8))\n",
    "\n",
    "# Image dimensions\n",
    "plt.subplot(2, 2, 1)\n",
    "plt.scatter(sample_df['width'], sample_df['height'], c=sample_df['class'].astype('category').cat.codes, alpha=0.7)\n",
    "plt.title('Image Dimensions')\n",
    "plt.xlabel('Width (pixels)')\n",
    "plt.ylabel('Height (pixels)')\n",
    "plt.colorbar(ticks=range(len(CLASS_NAMES)), label='Class')\n",
    "\n",
    "# Aspect ratio\n",
    "plt.subplot(2, 2, 2)\n",
    "sns.boxplot(x='class', y='aspect_ratio', data=sample_df)\n",
    "plt.title('Aspect Ratio by Class')\n",
    "plt.xlabel('Class')\n",
    "plt.ylabel('Aspect Ratio (width/height)')\n",
    "plt.xticks(rotation=45, ha='right')\n",
    "\n",
    "# Mean color\n",
    "plt.subplot(2, 2, 3)\n",
    "for i, color in enumerate(['mean_r', 'mean_g', 'mean_b']):\n",
    "    sns.kdeplot(data=sample_df, x=color, label=color.split('_')[1].upper())\n",
    "plt.title('Mean Color Distribution')\n",
    "plt.xlabel('Pixel Value')\n",
    "plt.ylabel('Density')\n",
    "plt.legend()\n",
    "\n",
    "# Color standard deviation\n",
    "plt.subplot(2, 2, 4)\n",
    "for i, color in enumerate(['std_r', 'std_g', 'std_b']):\n",
    "    sns.kdeplot(data=sample_df, x=color, label=color.split('_')[1].upper())\n",
    "plt.title('Color Standard Deviation Distribution')\n",
    "plt.xlabel('Pixel Value')\n",
    "plt.ylabel('Density')\n",
    "plt.legend()\n",
    "\n",
    "plt.tight_layout()\n",
    "plt.show()"
   ]
  },
  {
   "cell_type": "code",
   "execution_count": null,
   "metadata": {},
   "source": [
    "# Color histograms by class\n",
    "# Get average color histogram for each class\n",
    "class_hist_means = {}\n",
    "bins = 8  # Must match the bins used earlier\n",
    "\n",
    "for class_name in CLASS_NAMES.keys():\n",
    "    class_samples = sample_df[sample_df['class'] == class_name]\n",
    "    if len(class_samples) == 0:\n",
    "        continue\n",
    "        \n",
    "    # Stack all histograms and compute mean\n",
    "    hist_stack = np.vstack(class_samples['color_hist'].values)\n",
    "    class_hist_means[class_name] = np.mean(hist_stack, axis=0)\n",
    "\n",
    "# Plot average color histograms\n",
    "plt.figure(figsize=(14, 10))\n",
    "\n",
    "for i, (class_name, hist) in enumerate(class_hist_means.items()):\n",
    "    plt.subplot(3, 3, i+1)\n",
    "    \n",
    "    # Reshape to separate RGB channels\n",
    "    hist_r = hist[:bins]\n",
    "    hist_g = hist[bins:2*bins]\n",
    "    hist_b = hist[2*bins:]\n",
    "    \n",
    "    bin_edges = np.linspace(0, 256, bins+1)[:-1]\n",
    "    width = 256 / bins\n",
    "    \n",
    "    plt.bar(bin_edges, hist_r, width=width, alpha=0.7, color='r', label='R')\n",
    "    plt.bar(bin_edges, hist_g, width=width, alpha=0.7, color='g', label='G')\n",
    "    plt.bar(bin_edges, hist_b, width=width, alpha=0.7, color='b', label='B')\n",
    "    \n",
    "    plt.title(f\"{CLASS_NAMES[class_name]}\")\n",
    "    plt.xlabel('Pixel Value')\n",
    "    plt.ylabel('Normalized Frequency')\n",
    "    plt.legend()\n",
    "\n",
    "plt.tight_layout()\n",
    "plt.show()"
   ]
  },
  {
   "cell_type": "code",
   "execution_count": null,
   "metadata": {},
   "source": [
    "# Analyze shape features\n",
    "shape_features = np.vstack(sample_df['shape_features'].values)\n",
    "shape_df = pd.DataFrame(shape_features, columns=[f'shape_{i}' for i in range(shape_features.shape[1])])\n",
    "shape_df['class'] = sample_df['class'].values\n",
    "\n",
    "# Plot first two shape features\n",
    "plt.figure(figsize=(10, 8))\n",
    "sns.scatterplot(x='shape_0', y='shape_1', hue='class', data=shape_df)\n",
    "plt.title('Shape Features by Class (First Two Hu Moments)')\n",
    "plt.xlabel('Shape Feature 1')\n",
    "plt.ylabel('Shape Feature 2')\n",
    "plt.legend(title='Class')\n",
    "plt.show()"
   ]
  }
