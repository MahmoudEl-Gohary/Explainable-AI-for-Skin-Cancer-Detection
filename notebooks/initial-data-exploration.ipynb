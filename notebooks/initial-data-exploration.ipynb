{
 "cells": [
  {
   "cell_type": "markdown",
   "metadata": {},
   "source": [
    "# HAM10000 Dataset Exploration\n",
    "\n",
    "This notebook explores the HAM10000 skin lesion dataset for classification. The dataset contains 10,015 dermatoscopic images of pigmented skin lesions across 7 diagnostic categories.\n",
    "\n",
    "## Dataset Overview\n",
    "\n",
    "The HAM10000 ('Human Against Machine with 10000 training images') dataset consists of 10015 dermatoscopic images released as a training set for academic machine learning purposes. The dataset includes images of common pigmented skin lesions from different populations, acquired and stored by different modalities.\n",
    "\n",
    "The 7 diagnostic categories in the dataset are:\n",
    "1. Actinic Keratoses (akiec) - 327 images\n",
    "2. Basal Cell Carcinoma (bcc) - 514 images\n",
    "3. Benign Keratosis-like Lesions (bkl) - 1099 images\n",
    "4. Dermatofibroma (df) - 115 images\n",
    "5. Melanoma (mel) - 1113 images\n",
    "6. Melanocytic Nevi (nv) - 6705 images\n",
    "7. Vascular Lesions (vasc) - 142 images"
   ]
  },
  {
   "cell_type": "code",
   "execution_count": null,
   "metadata": {},
   "source": [
    "# Import required libraries\n",
    "import os\n",
    "import numpy as np\n",
    "import pandas as pd\n",
    "import matplotlib.pyplot as plt\n",
    "import seaborn as sns\n",
    "from PIL import Image\n",
    "import cv2\n",
    "from pathlib import Path\n",
    "import sys\n",
    "\n",
    "# Add the project root directory to the Python path\n",
    "sys.path.append('..')\n",
    "\n",
    "# Import project modules\n",
    "from XAI.config import CLASS_NAMES, RAW_DATA_DIR\n",
    "\n",
    "# Set plotting style\n",
    "plt.style.use('ggplot')\n",
    "sns.set(style=\"whitegrid\")\n",
    "\n",
    "# Matplotlib settings for better visualization\n",
    "%matplotlib inline\n",
    "plt.rcParams['figure.figsize'] = (12, 8)\n",
    "plt.rcParams['font.size'] = 12"
   ]
  },
  {
   "cell_type": "markdown",
   "metadata": {},
   "source": [
    "## Loading the Dataset"
   ]
  },
  {
   "cell_type": "code",
   "execution_count": null,
   "metadata": {},
   "source": [
    "# Define paths\n",
    "DATA_DIR = Path('../data/raw')\n",
    "METADATA_FILE = DATA_DIR / 'HAM10000_metadata.csv'\n",
    "IMAGE_DIR_PART1 = DATA_DIR / 'HAM10000_images_part_1'\n",
    "IMAGE_DIR_PART2 = DATA_DIR / 'HAM10000_images_part_2'\n",
    "\n",
    "# Check if the files exist\n",
    "print(f\"Metadata file exists: {METADATA_FILE.exists()}\")\n",
    "print(f\"Image directory part 1 exists: {IMAGE_DIR_PART1.exists()}\")\n",
    "print(f\"Image directory part 2 exists: {IMAGE_DIR_PART2.exists()}\")"
   ]
  },
  {
   "cell_type": "code",
   "execution_count": null,
   "metadata": {},
   "source": [
    "# Load metadata\n",
    "metadata = pd.read_csv(METADATA_FILE)\n",
    "\n",
    "# Display first few rows\n",
    "metadata.head()"
   ]
  },
  {
   "cell_type": "code",
   "execution_count": null,
   "metadata": {},
   "source": [
    "# Check the shape of the metadata\n",
    "print(f\"Metadata shape: {metadata.shape}\")\n",
    "\n",
    "# Check for missing values\n",
    "print(\"\\nMissing values:\")\n",
    "print(metadata.isnull().sum())"
   ]
  },
  {
   "cell_type": "markdown",
   "metadata": {},
   "source": [
    "## Exploratory Data Analysis"
   ]
  },
  {
   "cell_type": "code",
   "execution_count": null,
   "metadata": {},
   "source": [
    "# Display dataset information\n",
    "metadata.info()"
   ]
  },
  {
   "cell_type": "code",
   "execution_count": null,
   "metadata": {},
   "source": [
    "# Statistical summary of numerical columns\n",
    "metadata.describe()"
   ]
  },
  {
   "cell_type": "markdown",
   "metadata": {},
   "source": [
    "### Class Distribution"
   ]
  },
  {
   "cell_type": "code",
   "execution_count": null,
   "metadata": {},
   "source": [
    "# Count and visualize the distribution of diagnostic categories\n",
    "class_counts = metadata['dx'].value_counts()\n",
    "print(\"Class distribution:\")\n",
    "for class_name, count in class_counts.items():\n",
    "    print(f\"{CLASS_NAMES[class_name]}: {count} images ({count/len(metadata)*100:.2f}%)\")\n",
    "\n",
    "# Plot class distribution\n",
    "plt.figure(figsize=(12, 6))\n",
    "ax = sns.barplot(x=class_counts.index, y=class_counts.values)\n",
    "plt.xlabel('Class')\n",
    "plt.ylabel('Number of Images')\n",
    "plt.title('Class Distribution in HAM10000 Dataset')\n",
    "\n",
    "# Add value labels on top of bars\n",
    "for i, count in enumerate(class_counts.values):\n",
    "    ax.text(i, count + 50, str(count), ha='center')\n",
    "\n",
    "# Replace class codes with full names\n",
    "plt.xticks(range(len(CLASS_NAMES)), [CLASS_NAMES[cls] for cls in class_counts.index], rotation=45, ha='right')\n",
    "plt.tight_layout()\n",
    "plt.show()"
   ]
  },
  {
   "cell_type": "markdown",
   "metadata": {},
   "source": [
    "### Age Distribution"
   ]
  },
  {
   "cell_type": "code",
   "execution_count": null,
   "metadata": {},
   "source": [
    "# Age distribution analysis\n",
    "plt.figure(figsize=(12, 6))\n",
    "sns.histplot(metadata['age'].dropna(), bins=20, kde=True)\n",
    "plt.title('Age Distribution in the Dataset')\n",
    "plt.xlabel('Age')\n",
    "plt.ylabel('Count')\n",
    "plt.show()\n",
    "\n",
    "# Age distribution by diagnostic category\n",
    "plt.figure(figsize=(14, 8))\n",
    "sns.boxplot(x='dx', y='age', data=metadata)\n",
    "plt.title('Age Distribution by Diagnostic Category')\n",
    "plt.xlabel('Diagnostic Category')\n",
    "plt.ylabel('Age')\n",
    "plt.xticks(range(len(CLASS_NAMES)), [CLASS_NAMES[cls] for cls in sorted(metadata['dx'].unique())], rotation=45, ha='right')\n",
    "plt.tight_layout()\n",
    "plt.show()"
   ]
  },
  {
   "cell_type": "markdown",
   "metadata": {},
   "source": [
    "### Sex Distribution"
   ]
  },
  {
   "cell_type": "code",
   "execution_count": null,
   "metadata": {},
   "source": [
    "# Sex distribution\n",
    "sex_counts = metadata['sex'].value_counts()\n",
    "plt.figure(figsize=(8, 6))\n",
    "sex_counts.plot(kind='pie', autopct='%1.1f%%')\n",
    "plt.title('Sex Distribution in the Dataset')\n",
    "plt.ylabel('')\n",
    "plt.show()\n",
    "\n",
    "# Sex distribution by diagnostic category\n",
    "plt.figure(figsize=(14, 6))\n",
    "sex_by_dx = pd.crosstab(metadata['dx'], metadata['sex'])\n",
    "sex_by_dx_norm = sex_by_dx.div(sex_by_dx.sum(axis=1), axis=0)\n",
    "sex_by_dx_norm.plot(kind='bar', stacked=True)\n",
    "plt.title('Sex Distribution by Diagnostic Category')\n",
    "plt.xlabel('Diagnostic Category')\n",
    "plt.ylabel('Proportion')\n",
    "plt.xticks(range(len(CLASS_NAMES)), [CLASS_NAMES[cls] for cls in sex_by_dx.index], rotation=45, ha='right')\n",
    "plt.legend(title='Sex')\n",
    "plt.tight_layout()\n",
    "plt.show()"
   ]
  },
  {
   "cell_type": "markdown",
   "metadata": {},
   "source": [
    "### Localization Distribution"
   ]
  },
  {
   "cell_type": "code",
   "execution_count": null,
   "metadata": {},
   "source": [
    "# Localization distribution\n",
    "loc_counts = metadata['localization'].value_counts()\n",
    "plt.figure(figsize=(12, 6))\n",
    "loc_counts.plot(kind='bar')\n",
    "plt.title('Localization Distribution in the Dataset')\n",
    "plt.xlabel('Localization')\n",
    "plt.ylabel('Count')\n",
    "plt.xticks(rotation=45, ha='right')\n",
    "plt.tight_layout()\n",
    "plt.show()\n",
    "\n",
    "# Localization distribution by diagnostic category\n",
    "plt.figure(figsize=(14, 8))\n",
    "loc_by_dx = pd.crosstab(metadata['dx'], metadata['localization'])\n",
    "loc_by_dx_norm = loc_by_dx.div(loc_by_dx.sum(axis=1), axis=0)\n",
    "loc_by_dx_norm.plot(kind='bar', stacked=True)\n",
    "plt.title('Localization Distribution by Diagnostic Category')\n",
    "plt.xlabel('Diagnostic Category')\n",
    "plt.ylabel('Proportion')\n",
    "plt.xticks(range(len(CLASS_NAMES)), [CLASS_NAMES[cls] for cls in loc_by_dx.index], rotation=45, ha='right')\n",
    "plt.legend(title='Localization', bbox_to_anchor=(1.05, 1), loc='upper left')\n",
    "plt.tight_layout()\n",
    "plt.show()"
   ]
  },
  {
   "cell_type": "markdown",
   "metadata": {},
   "source": [
    "### Image Samples"
   ]
  },
  {
   "cell_type": "code",
   "execution_count": null,
   "metadata": {},
   "source": [
    "# Display sample images from each class\n",
    "samples_per_class = 5\n",
    "fig, axs = plt.subplots(len(CLASS_NAMES), samples_per_class, figsize=(15, 3*len(CLASS_NAMES)))\n",
    "\n",
    "for i, class_name in enumerate(CLASS_NAMES.keys()):\n",
    "    # Get samples for this class\n",
    "    samples = metadata[metadata['dx'] == class_name].sample(min(samples_per_class, sum(metadata['dx'] == class_name)))\n",
    "    \n",
    "    for j, (_, row) in enumerate(samples.iterrows()):\n",
    "        img_id = row['image_id']\n",
    "        \n",
    "        # Find image file\n",
    "        img_path = None\n",
    "        for img_dir in [IMAGE_DIR_PART1, IMAGE_DIR_PART2]:\n",
    "            temp_path = img_dir / f\"{img_id}.jpg\"\n",
    "            if temp_path.exists():\n",
    "                img_path = temp_path\n",
    "                break\n",
    "        \n",
    "        if img_path is None:\n",
    "            print(f\"Warning: Image {img_id} not found\")\n",
    "            continue\n",
    "        \n",
    "        # Load and display image\n",
    "        img = Image.open(img_path)\n",
    "        axs[i, j].imshow(img)\n",
    "        axs[i, j].axis('off')\n",
    "        \n",
    "        # Add class label to first image in row\n",
    "        if j == 0:\n",
    "            axs[i, j].set_title(f\"{CLASS_NAMES[class_name]}\", fontsize=12)\n",
    "\n",
    "plt.tight_layout()\n",
    "plt.show()"
   ]
